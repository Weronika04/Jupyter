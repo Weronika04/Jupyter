{
 "cells": [
  {
   "cell_type": "markdown",
   "metadata": {},
   "source": [
    "THE ROLE OF LINGUISTICS IN TRANSLATION"
   ]
  },
  {
   "cell_type": "markdown",
   "metadata": {},
   "source": [
    "### INTRODUCTION"
   ]
  },
  {
   "cell_type": "markdown",
   "metadata": {},
   "source": [
    "##### DOWNLOADING THE DATA FROM WEBSITE"
   ]
  },
  {
   "cell_type": "markdown",
   "metadata": {},
   "source": [
    "In this essay I will focus on the importance of communication in today's globalized society, which has never been greater. Quite a number of modern studies highlight that connecting individuals and modern technology, such as the internet, is actually helping to tear down geographical borders. The comming together of countries and cultures need improved communication. However, with over 7,000 languages spoken worldwide, communication in a globalized culture has become a major challenge. In the following essay I will provide several vital aspects of the role of linguistics in translation as well as some of the functions which one can use for essay analysis in Jupyter Notebook."
   ]
  },
  {
   "cell_type": "code",
   "execution_count": null,
   "metadata": {},
   "outputs": [],
   "source": [
    "import bs4"
   ]
  },
  {
   "cell_type": "code",
   "execution_count": 57,
   "metadata": {},
   "outputs": [],
   "source": [
    "import requests\n",
    "page = requests.get(\"https://www.itcglobaltranslations.com/blog/the-role-of-linguistics-in-translation/\")\n",
    "# print(page.content)"
   ]
  },
  {
   "cell_type": "code",
   "execution_count": 58,
   "metadata": {},
   "outputs": [
    {
     "name": "stdout",
     "output_type": "stream",
     "text": [
      "[<p>The study of linguistics is essentially the study of human language. It can be broken down into several sub-categories.</p>, <p>Accurate translation of one language to another requires addressing all the functions of linguistics. One must determine the grammar being used, the meaning of the words as individual components, as well as the phrases and sentences they create, how those phrases are placed in time and history, and so forth.</p>, <p>Each language differs in its linguistic functions but there are commonalities among languages as well. An accurate translation must determine where the similarities and differences lie. Relying on only one area, grammar for example, will not produce an optimal translation. It may, in fact, be lacking in vital information if the other functions are not fully realized.</p>, <p>A careful use of the tools provided by linguistic study will improve the quality and accuracy of a translated document.</p>]\n"
     ]
    }
   ],
   "source": [
    "from bs4 import BeautifulSoup\n",
    "content = BeautifulSoup(page.content, 'html.parser')\n",
    "paragraphs = content.find_all('p')\n",
    "print(paragraphs[1:5])\n"
   ]
  },
  {
   "cell_type": "markdown",
   "metadata": {},
   "source": [
    "### CHAPTER 2"
   ]
  },
  {
   "cell_type": "markdown",
   "metadata": {},
   "source": [
    "##### FURTHER INFORMATION ABOUT THE TOPIC"
   ]
  },
  {
   "cell_type": "markdown",
   "metadata": {},
   "source": [
    "Over the years, translators have been criticized for not accurately reproducing the content contained in the original writings. However, as Anthony Burgess, a British philologist and writer once pointed:\n",
    "> “Translation is not a matter of words only: it is a matter of making intelligible a whole culture.”\n",
    "\n",
    "The growth of digital translation technology hasn't benefited translators' cause, as most of these technologies produce inaccurate translations. As a result, a more scientific approach to word conversion from one language to another has become necessary.\n",
    "\n",
    "\n",
    "These efforts to improve translation accuracy have demanded linguistic translation. Linguistic translation aids in the decoding and deciphering of all aspects of the source language before converting it to a translated document.\n",
    "\n",
    "\n",
    "A linguist is usually familiar with the majority of a language's features and functions. They'll be useful for providing an accurate translation of any work into the new language."
   ]
  },
  {
   "cell_type": "markdown",
   "metadata": {},
   "source": [
    "### CHAPTER 3"
   ]
  },
  {
   "cell_type": "markdown",
   "metadata": {},
   "source": [
    "##### THE USAGE OF NLTK PACKAGE"
   ]
  },
  {
   "cell_type": "code",
   "execution_count": null,
   "metadata": {},
   "outputs": [],
   "source": [
    "import nltk"
   ]
  },
  {
   "cell_type": "code",
   "execution_count": null,
   "metadata": {},
   "outputs": [],
   "source": [
    "for parts in paragraphs:\n",
    "    text = parts.get_text().strip()\n",
    "    if len(text) > 0:\n",
    "        print(text)"
   ]
  },
  {
   "cell_type": "markdown",
   "metadata": {},
   "source": [
    "The study of linguistics is essentially the study of human language. It can be broken down into several sub-categories.\n",
    "\n",
    "1. Grammar: the study of language structure and the system of rules it uses. It includes several fields as follows.\n",
    "2. Morphology: the study of the formation of words.\n",
    "3. Syntax: the study of the formation and composition of these words into phrases and sentences.\n",
    "4. Phonology: the study of sound systems. (Phonetics is a related field concerned with the properties, production, and perception of speech and non-speech sounds.)\n",
    "5. Semantics: the study of word meaning.\n",
    "6. Historical linguistics: the study of language evolution over time.\n",
    "7. Sociolinguistics: the study of how language is used in society.\n",
    "8. Psycholinguistics: the study of language is processed within the mind.\n",
    "9. Neurolinguistics: the study of the actual encoding of language in the brain.\n",
    "10. Computational linguistics: the study of natural linguistics by using the techniques of computer science."
   ]
  },
  {
   "cell_type": "code",
   "execution_count": null,
   "metadata": {},
   "outputs": [],
   "source": [
    "tuples = ['Linguistics plays an important role in the translation of a document from one language to another. Translating information includes more than just changing each word from the original language to another.'] \n",
    "for sentence in text:\n",
    "    tokenized = nltk.word_tokenize(sentence)\n",
    "    tagged = nltk.pos_tag(tokenized)\n",
    "    for item in tagged:\n",
    "        tuples.append(item)\n"
   ]
  },
  {
   "cell_type": "code",
   "execution_count": null,
   "metadata": {},
   "outputs": [],
   "source": [
    "    print(tuples)"
   ]
  },
  {
   "cell_type": "code",
   "execution_count": null,
   "metadata": {},
   "outputs": [],
   "source": [
    "counter_dict = {}\n",
    "for item in tuples:\n",
    "    if item[1] not in counter_dict:\n",
    "        counter_dict[item[1]] = 1\n",
    "    else:\n",
    "        counter_dict[item[1]] += 1\n",
    "\n",
    "print(counter_dict)"
   ]
  },
  {
   "cell_type": "markdown",
   "metadata": {},
   "source": [
    "### CONCLUSIONS"
   ]
  },
  {
   "cell_type": "markdown",
   "metadata": {},
   "source": [
    "To summarize, accurate translation of one language to another demands consideration of all linguistic functions. The grammar utilized, the meaning of the words as separate components, as well as the phrases and sentences they produce, how those phrases are placed in time and history, and so on, must all be determined.\n",
    "Although each language has its own set of linguistic functions, there are certain commonalities among them. An accurate translation must identify the similarities and differences between the two languages. Depending just on one aspect, such as grammar, will not result in an optimal translation. If the other functions aren't fully realized, it may be missing essential information."
   ]
  }
 ],
 "metadata": {
  "kernelspec": {
   "display_name": "Python 3.10.5 64-bit",
   "language": "python",
   "name": "python3"
  },
  "language_info": {
   "codemirror_mode": {
    "name": "ipython",
    "version": 3
   },
   "file_extension": ".py",
   "mimetype": "text/x-python",
   "name": "python",
   "nbconvert_exporter": "python",
   "pygments_lexer": "ipython3",
   "version": "3.10.5"
  },
  "orig_nbformat": 4,
  "vscode": {
   "interpreter": {
    "hash": "d536480df377ddf26940044dfc529c3572ec601783174678555f9c001c87f176"
   }
  }
 },
 "nbformat": 4,
 "nbformat_minor": 2
}
